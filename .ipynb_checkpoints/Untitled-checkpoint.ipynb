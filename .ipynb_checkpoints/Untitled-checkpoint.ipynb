{
 "cells": [
  {
   "cell_type": "code",
   "execution_count": 1,
   "id": "12d2e686",
   "metadata": {},
   "outputs": [
    {
     "name": "stdout",
     "output_type": "stream",
     "text": [
      "Python is Awsome\n"
     ]
    }
   ],
   "source": [
    "x = \"Python is Awsome\"\n",
    "print(x)"
   ]
  },
  {
   "cell_type": "code",
   "execution_count": 5,
   "id": "2e14712b",
   "metadata": {},
   "outputs": [
    {
     "name": "stdout",
     "output_type": "stream",
     "text": [
      "Python is easy to understand\n"
     ]
    }
   ],
   "source": [
    "x = \"Python\"\n",
    "y = \"is\"\n",
    "z = \"easy to understand\"\n",
    "print(x,y,z)"
   ]
  },
  {
   "cell_type": "code",
   "execution_count": null,
   "id": "2c608688",
   "metadata": {},
   "outputs": [],
   "source": [
    "#if-else\n",
    "a=200\n",
    "b=300\n",
    "if a<b:\n",
    "    print(\"less than\")\n",
    "elif a>b:\n",
    "    print(\"greater than\")\n",
    "else:\n",
    "    print(\"equal\")\n"
   ]
  },
  {
   "cell_type": "code",
   "execution_count": null,
   "id": "c799c470",
   "metadata": {},
   "outputs": [],
   "source": [
    "#if-else same line\n",
    "a=200\n",
    "b=300\n",
    "print(\"less than\") if a>b else(\"greater than\")"
   ]
  },
  {
   "cell_type": "code",
   "execution_count": null,
   "id": "d5222ea3",
   "metadata": {},
   "outputs": [],
   "source": [
    "#while\n",
    "i=0\n",
    "while i<5:\n",
    "    i+=1\n",
    "    if i==3:\n",
    "        continue\n",
    "    print(i)"
   ]
  },
  {
   "cell_type": "code",
   "execution_count": null,
   "id": "4fcef10c",
   "metadata": {},
   "outputs": [],
   "source": [
    "#for\n",
    "names=[\"Abhishek\",\"Pritam\",\"Dibya\",\"Enemy\"]\n",
    "for friends in names:\n",
    "    print(friends)\n",
    "    if friends==\"Dibya\":\n",
    "        break"
   ]
  },
  {
   "cell_type": "code",
   "execution_count": null,
   "id": "5d8fa1ba",
   "metadata": {},
   "outputs": [],
   "source": []
  },
  {
   "cell_type": "code",
   "execution_count": null,
   "id": "66f9c0ab",
   "metadata": {},
   "outputs": [],
   "source": [
    "#for\n",
    "names=[\"Abhishek\",\"Pritam\",\"Dibya\",\"Enemy\"]\n",
    "for friends in names:\n",
    "    print(friends)\n",
    "    if friends==\"Dibya\":\n",
    "        break"
   ]
  },
  {
   "cell_type": "code",
   "execution_count": null,
   "id": "a4625877",
   "metadata": {},
   "outputs": [],
   "source": []
  }
 ],
 "metadata": {
  "kernelspec": {
   "display_name": "Python 3 (ipykernel)",
   "language": "python",
   "name": "python3"
  },
  "language_info": {
   "codemirror_mode": {
    "name": "ipython",
    "version": 3
   },
   "file_extension": ".py",
   "mimetype": "text/x-python",
   "name": "python",
   "nbconvert_exporter": "python",
   "pygments_lexer": "ipython3",
   "version": "3.9.12"
  }
 },
 "nbformat": 4,
 "nbformat_minor": 5
}
